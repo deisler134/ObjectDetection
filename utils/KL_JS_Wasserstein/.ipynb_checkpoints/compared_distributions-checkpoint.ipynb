{
 "cells": [
  {
   "cell_type": "code",
   "execution_count": 14,
   "metadata": {},
   "outputs": [],
   "source": [
    "import numpy as np\n",
    "import scipy.stats as stats\n",
    "import matplotlib.pyplot as plt"
   ]
  },
  {
   "cell_type": "code",
   "execution_count": 15,
   "metadata": {},
   "outputs": [],
   "source": [
    "# build KL(Kullback-Leibler distance)\n",
    "def KL(p, q, base = np.e):\n",
    "    '''\n",
    "        Implementation of Kullback-Leibler distance \n",
    "    '''\n",
    "    ## convert to np.array\n",
    "    p, q = np.asarray(p), np.asarray(q)\n",
    "    ## normalize p, q to probabilities\n",
    "    p, q = p/p.sum(), q/q.sum()\n",
    "    return stats.entropy(p, q, base = base)"
   ]
  },
  {
   "cell_type": "code",
   "execution_count": 16,
   "metadata": {},
   "outputs": [],
   "source": [
    "# build JS(Jenson-Shannon divergence)\n",
    "def JS(p, q, base = np.e):\n",
    "    '''\n",
    "        Implementation of Jenson-Shannon divergence \n",
    "    '''\n",
    "    ## convert to np.array\n",
    "    p, q = np.asarray(p), np.asarray(q)\n",
    "    ## normalize p, q to probabilities\n",
    "    p, q = p/p.sum(), q/q.sum()\n",
    "    m = (p + q)/2.\n",
    "    return (stats.entropy(p, m, base = base) + stats.entropy(q, m, base = base)) / 2."
   ]
  },
  {
   "cell_type": "code",
   "execution_count": 17,
   "metadata": {},
   "outputs": [],
   "source": [
    "# build Wasserstein(Wasserstein distance)\n",
    "def Wasserstein(p, q, base = np.e):\n",
    "    '''\n",
    "        Implementation of Wasserstein distance \n",
    "    '''\n",
    "    ## convert to np.array\n",
    "    p, q = np.asarray(p), np.asarray(q)\n",
    "    return stats.wasserstein_distance(p, q)"
   ]
  },
  {
   "cell_type": "code",
   "execution_count": 22,
   "metadata": {},
   "outputs": [
    {
     "data": {
      "image/png": "[encoded data removed]",
      "text/plain": [
       "<Figure size 720x504 with 4 Axes>"
      ]
     },
     "metadata": {
      "needs_background": "light"
     },
     "output_type": "display_data"
    }
   ],
   "source": [
    "# display KL, JS, Wasserstein\n",
    "\n",
    "# define samples this way as scipy.stats.wasserstein_distance can't take probability distributions directly\n",
    "sampP = [1,1,1,1,1,1,2,3,4,5]\n",
    "sampQ = [1,2,3,4,5,5,5,5,5,5]\n",
    "# and for scipy.stats.entropy (gives KL divergence here) we want distributions\n",
    "P = np.unique(sampP, return_counts=True)[1] / len(sampP)\n",
    "Q = np.unique(sampQ, return_counts=True)[1] / len(sampQ)\n",
    "# compare to this sample / distribution:\n",
    "sampQ2 = [1,2,2,2,2,2,2,3,4,5]\n",
    "Q2 = np.unique(sampQ2, return_counts=True)[1] / len(sampQ2)\n",
    "\n",
    "fig = plt.figure(figsize=(10,7))\n",
    "fig.subplots_adjust(wspace=0.5)\n",
    "fig.subplots_adjust(hspace=0.3)\n",
    "plt.subplot(2,2,1)\n",
    "plt.bar(np.arange(len(P)), P, color='r')\n",
    "plt.xticks(np.arange(len(P)), np.arange(1,5), fontsize=0)\n",
    "plt.subplot(2,2,3)\n",
    "plt.bar(np.arange(len(Q)), Q, color='b')\n",
    "plt.xticks(np.arange(len(Q)), np.arange(1,5))\n",
    "plt.title(\"KL distance {:.4}\\nJS divergence {:.4}\\nWasserstein distance {:.4}\".format(\n",
    "    KL(P, Q), JS(P, Q), Wasserstein(sampP, sampQ)), fontsize=10)\n",
    "plt.subplot(2,2,2)\n",
    "plt.bar(np.arange(len(P)), P, color='r')\n",
    "plt.xticks(np.arange(len(P)), np.arange(1,5), fontsize=0)\n",
    "plt.subplot(2,2,4)\n",
    "plt.bar(np.arange(len(Q2)), Q2, color='b')\n",
    "plt.xticks(np.arange(len(Q2)), np.arange(1,5))\n",
    "plt.title(\"KL distance {:.4}\\nJS divergence {:.4}\\nWasserstein distance {:.4}\".format(\n",
    "    KL(P, Q2), JS(P, Q2), Wasserstein(sampP, sampQ2)), fontsize=10)\n",
    "plt.show()"
   ]
  },
  {
   "cell_type": "code",
   "execution_count": null,
   "metadata": {},
   "outputs": [],
   "source": []
  }
 ],
 "metadata": {
  "kernelspec": {
   "display_name": "Python 3",
   "language": "python",
   "name": "python3"
  },
  "language_info": {
   "codemirror_mode": {
    "name": "ipython",
    "version": 3
   },
   "file_extension": ".py",
   "mimetype": "text/x-python",
   "name": "python",
   "nbconvert_exporter": "python",
   "pygments_lexer": "ipython3",
   "version": "3.5.2"
  }
 },
 "nbformat": 4,
 "nbformat_minor": 2
}
